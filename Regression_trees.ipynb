{
 "cells": [
  {
   "cell_type": "code",
   "execution_count": 2,
   "metadata": {
    "colab": {},
    "colab_type": "code",
    "id": "L5YLJv7MKZul"
   },
   "outputs": [],
   "source": [
    "import numpy as np\n",
    "import pandas as pd"
   ]
  },
  {
   "cell_type": "code",
   "execution_count": 3,
   "metadata": {
    "colab": {},
    "colab_type": "code",
    "id": "Ws4XwFgyKe6t"
   },
   "outputs": [],
   "source": [
    "df=pd.DataFrame()"
   ]
  },
  {
   "cell_type": "code",
   "execution_count": 4,
   "metadata": {
    "colab": {},
    "colab_type": "code",
    "id": "AwCy1_qoKrwF"
   },
   "outputs": [],
   "source": [
    "df['hrs']=np.array([1,2.5,1.5,2.1,5,4,6.5,3.5,8,7.5])\n",
    "df['marks']=np.array([37,50,43,60,27,80,30,75,64,56])"
   ]
  },
  {
   "cell_type": "code",
   "execution_count": 5,
   "metadata": {
    "colab": {
     "base_uri": "https://localhost:8080/",
     "height": 343
    },
    "colab_type": "code",
    "id": "3AsaU0-PLXqb",
    "outputId": "13e511c8-f467-4ae4-a198-3adeb2c782ac"
   },
   "outputs": [
    {
     "data": {
      "text/html": [
       "<div>\n",
       "<style scoped>\n",
       "    .dataframe tbody tr th:only-of-type {\n",
       "        vertical-align: middle;\n",
       "    }\n",
       "\n",
       "    .dataframe tbody tr th {\n",
       "        vertical-align: top;\n",
       "    }\n",
       "\n",
       "    .dataframe thead th {\n",
       "        text-align: right;\n",
       "    }\n",
       "</style>\n",
       "<table border=\"1\" class=\"dataframe\">\n",
       "  <thead>\n",
       "    <tr style=\"text-align: right;\">\n",
       "      <th></th>\n",
       "      <th>hrs</th>\n",
       "      <th>marks</th>\n",
       "    </tr>\n",
       "  </thead>\n",
       "  <tbody>\n",
       "    <tr>\n",
       "      <td>0</td>\n",
       "      <td>1.0</td>\n",
       "      <td>37</td>\n",
       "    </tr>\n",
       "    <tr>\n",
       "      <td>1</td>\n",
       "      <td>2.5</td>\n",
       "      <td>50</td>\n",
       "    </tr>\n",
       "    <tr>\n",
       "      <td>2</td>\n",
       "      <td>1.5</td>\n",
       "      <td>43</td>\n",
       "    </tr>\n",
       "    <tr>\n",
       "      <td>3</td>\n",
       "      <td>2.1</td>\n",
       "      <td>60</td>\n",
       "    </tr>\n",
       "    <tr>\n",
       "      <td>4</td>\n",
       "      <td>5.0</td>\n",
       "      <td>27</td>\n",
       "    </tr>\n",
       "    <tr>\n",
       "      <td>5</td>\n",
       "      <td>4.0</td>\n",
       "      <td>80</td>\n",
       "    </tr>\n",
       "    <tr>\n",
       "      <td>6</td>\n",
       "      <td>6.5</td>\n",
       "      <td>30</td>\n",
       "    </tr>\n",
       "    <tr>\n",
       "      <td>7</td>\n",
       "      <td>3.5</td>\n",
       "      <td>75</td>\n",
       "    </tr>\n",
       "    <tr>\n",
       "      <td>8</td>\n",
       "      <td>8.0</td>\n",
       "      <td>64</td>\n",
       "    </tr>\n",
       "    <tr>\n",
       "      <td>9</td>\n",
       "      <td>7.5</td>\n",
       "      <td>56</td>\n",
       "    </tr>\n",
       "  </tbody>\n",
       "</table>\n",
       "</div>"
      ],
      "text/plain": [
       "   hrs  marks\n",
       "0  1.0     37\n",
       "1  2.5     50\n",
       "2  1.5     43\n",
       "3  2.1     60\n",
       "4  5.0     27\n",
       "5  4.0     80\n",
       "6  6.5     30\n",
       "7  3.5     75\n",
       "8  8.0     64\n",
       "9  7.5     56"
      ]
     },
     "execution_count": 5,
     "metadata": {},
     "output_type": "execute_result"
    }
   ],
   "source": [
    "df"
   ]
  },
  {
   "cell_type": "code",
   "execution_count": 6,
   "metadata": {
    "colab": {},
    "colab_type": "code",
    "id": "3ee6DyDnLY3H"
   },
   "outputs": [],
   "source": [
    "import matplotlib.pyplot as plt"
   ]
  },
  {
   "cell_type": "code",
   "execution_count": 7,
   "metadata": {
    "colab": {
     "base_uri": "https://localhost:8080/",
     "height": 282
    },
    "colab_type": "code",
    "id": "XASn6oEvLfTj",
    "outputId": "f42d028e-dc45-4f87-9f1b-112fa231610c"
   },
   "outputs": [
    {
     "data": {
      "text/plain": [
       "<matplotlib.collections.PathCollection at 0x2737781b748>"
      ]
     },
     "execution_count": 7,
     "metadata": {},
     "output_type": "execute_result"
    },
    {
     "data": {
      "image/png": "[encoded data removed]",
      "text/plain": [
       "<Figure size 432x288 with 1 Axes>"
      ]
     },
     "metadata": {
      "needs_background": "light"
     },
     "output_type": "display_data"
    }
   ],
   "source": [
    "plt.scatter(df['hrs'],df['marks'])"
   ]
  },
  {
   "cell_type": "code",
   "execution_count": 8,
   "metadata": {
    "colab": {
     "base_uri": "https://localhost:8080/",
     "height": 343
    },
    "colab_type": "code",
    "id": "bD29xDFeLj5S",
    "outputId": "f1753503-aef6-454b-8ec8-683d5f552f0d"
   },
   "outputs": [
    {
     "data": {
      "text/html": [
       "<div>\n",
       "<style scoped>\n",
       "    .dataframe tbody tr th:only-of-type {\n",
       "        vertical-align: middle;\n",
       "    }\n",
       "\n",
       "    .dataframe tbody tr th {\n",
       "        vertical-align: top;\n",
       "    }\n",
       "\n",
       "    .dataframe thead th {\n",
       "        text-align: right;\n",
       "    }\n",
       "</style>\n",
       "<table border=\"1\" class=\"dataframe\">\n",
       "  <thead>\n",
       "    <tr style=\"text-align: right;\">\n",
       "      <th></th>\n",
       "      <th>hrs</th>\n",
       "      <th>marks</th>\n",
       "    </tr>\n",
       "  </thead>\n",
       "  <tbody>\n",
       "    <tr>\n",
       "      <td>0</td>\n",
       "      <td>1.0</td>\n",
       "      <td>37</td>\n",
       "    </tr>\n",
       "    <tr>\n",
       "      <td>2</td>\n",
       "      <td>1.5</td>\n",
       "      <td>43</td>\n",
       "    </tr>\n",
       "    <tr>\n",
       "      <td>3</td>\n",
       "      <td>2.1</td>\n",
       "      <td>60</td>\n",
       "    </tr>\n",
       "    <tr>\n",
       "      <td>1</td>\n",
       "      <td>2.5</td>\n",
       "      <td>50</td>\n",
       "    </tr>\n",
       "    <tr>\n",
       "      <td>7</td>\n",
       "      <td>3.5</td>\n",
       "      <td>75</td>\n",
       "    </tr>\n",
       "    <tr>\n",
       "      <td>5</td>\n",
       "      <td>4.0</td>\n",
       "      <td>80</td>\n",
       "    </tr>\n",
       "    <tr>\n",
       "      <td>4</td>\n",
       "      <td>5.0</td>\n",
       "      <td>27</td>\n",
       "    </tr>\n",
       "    <tr>\n",
       "      <td>6</td>\n",
       "      <td>6.5</td>\n",
       "      <td>30</td>\n",
       "    </tr>\n",
       "    <tr>\n",
       "      <td>9</td>\n",
       "      <td>7.5</td>\n",
       "      <td>56</td>\n",
       "    </tr>\n",
       "    <tr>\n",
       "      <td>8</td>\n",
       "      <td>8.0</td>\n",
       "      <td>64</td>\n",
       "    </tr>\n",
       "  </tbody>\n",
       "</table>\n",
       "</div>"
      ],
      "text/plain": [
       "   hrs  marks\n",
       "0  1.0     37\n",
       "2  1.5     43\n",
       "3  2.1     60\n",
       "1  2.5     50\n",
       "7  3.5     75\n",
       "5  4.0     80\n",
       "4  5.0     27\n",
       "6  6.5     30\n",
       "9  7.5     56\n",
       "8  8.0     64"
      ]
     },
     "execution_count": 8,
     "metadata": {},
     "output_type": "execute_result"
    }
   ],
   "source": [
    "# You have to find the first splitting criteria.\n",
    "df=df.sort_values(\"hrs\")\n",
    "df"
   ]
  },
  {
   "cell_type": "code",
   "execution_count": 32,
   "metadata": {
    "colab": {
     "base_uri": "https://localhost:8080/",
     "height": 34
    },
    "colab_type": "code",
    "id": "Q7V5ERFcfNxV",
    "outputId": "f4a0292b-625f-438d-a484-6160bc67703b"
   },
   "outputs": [
    {
     "data": {
      "text/plain": [
       "2698.888888888889"
      ]
     },
     "execution_count": 32,
     "metadata": {},
     "output_type": "execute_result"
    }
   ],
   "source": [
    "#first split\n",
    "y1=df.iloc[0:2,:]\n",
    "x0=y1['hrs'].mean()\n",
    "a=df[df['hrs']<=x0]\n",
    "x1=a.mean()['marks']\n",
    "b=df[df['hrs']>x0]\n",
    "x2=b.mean()['marks']\n",
    "error2=0\n",
    "error1=0\n",
    "for j in a['marks']:\n",
    "  m3=(j-x1)**2\n",
    "  error2=error2+m3\n",
    "for i in b['marks']:\n",
    "  m2=(x2-i)**2\n",
    "  error1=error1+m2\n",
    "\n",
    "error=error2+error1\n",
    "e1=error\n",
    "\n",
    "e1"
   ]
  },
  {
   "cell_type": "code",
   "execution_count": 44,
   "metadata": {
    "colab": {
     "base_uri": "https://localhost:8080/",
     "height": 34
    },
    "colab_type": "code",
    "id": "MclnqqB3fXbX",
    "outputId": "74b6e950-4ac5-4938-b474-e4834907c489"
   },
   "outputs": [
    {
     "data": {
      "text/plain": [
       "2583.5"
      ]
     },
     "execution_count": 44,
     "metadata": {},
     "output_type": "execute_result"
    }
   ],
   "source": [
    "#second split\n",
    "y1=df.iloc[1:3,:]\n",
    "x01=y1['hrs'].mean()\n",
    "a=df[df['hrs']<=x01]\n",
    "x1=a.mean()['marks']\n",
    "b=df[df['hrs']>x01]\n",
    "x2=b.mean()['marks']\n",
    "error2=0\n",
    "error1=0\n",
    "for j in a['marks']:\n",
    "  m3=(j-x1)**2\n",
    "  error2=error2+m3\n",
    "for i in b['marks']:\n",
    "  m2=(x2-i)**2\n",
    "  error1=error1+m2\n",
    "\n",
    "error=error2+error1\n",
    "e2=error\n",
    "\n",
    "e2"
   ]
  },
  {
   "cell_type": "code",
   "execution_count": 45,
   "metadata": {
    "colab": {
     "base_uri": "https://localhost:8080/",
     "height": 34
    },
    "colab_type": "code",
    "id": "6_IpWMellh1f",
    "outputId": "551c3a07-fc0b-4fd6-82ef-5335a7e8f42e"
   },
   "outputs": [
    {
     "data": {
      "text/plain": [
       "2824.3809523809523"
      ]
     },
     "execution_count": 45,
     "metadata": {},
     "output_type": "execute_result"
    }
   ],
   "source": [
    "#third split\n",
    "y1=df.iloc[2:4,:]\n",
    "x02=y1['hrs'].mean()\n",
    "a=df[df['hrs']<=x02]\n",
    "x1=a.mean()['marks']\n",
    "b=df[df['hrs']>x02]\n",
    "x2=b.mean()['marks']\n",
    "error2=0\n",
    "error1=0\n",
    "for j in a['marks']:\n",
    "  m3=(j-x1)**2\n",
    "  error2=error2+m3\n",
    "for i in b['marks']:\n",
    "  m2=(x2-i)**2\n",
    "  error1=error1+m2\n",
    "\n",
    "error=error2+error1\n",
    "e3=error\n",
    "\n",
    "e3"
   ]
  },
  {
   "cell_type": "code",
   "execution_count": 46,
   "metadata": {
    "colab": {
     "base_uri": "https://localhost:8080/",
     "height": 34
    },
    "colab_type": "code",
    "id": "DzZgt6Owli9y",
    "outputId": "5ce4bf41-f153-4350-d2a8-63e183c9c27b"
   },
   "outputs": [
    {
     "data": {
      "text/plain": [
       "2808.333333333333"
      ]
     },
     "execution_count": 46,
     "metadata": {},
     "output_type": "execute_result"
    }
   ],
   "source": [
    "#fourth split\n",
    "y1=df.iloc[3:5,:]\n",
    "x03=y1['hrs'].mean()\n",
    "a=df[df['hrs']<=x03]\n",
    "x1=a.mean()['marks']\n",
    "b=df[df['hrs']>x03]\n",
    "x2=b.mean()['marks']\n",
    "error2=0\n",
    "error1=0\n",
    "for j in a['marks']:\n",
    "  m3=(j-x1)**2\n",
    "  error2=error2+m3\n",
    "for i in b['marks']:\n",
    "  m2=(x2-i)**2\n",
    "  error1=error1+m2\n",
    "\n",
    "error=error2+error1\n",
    "e4=error\n",
    "\n",
    "e4"
   ]
  },
  {
   "cell_type": "code",
   "execution_count": 47,
   "metadata": {
    "colab": {
     "base_uri": "https://localhost:8080/",
     "height": 34
    },
    "colab_type": "code",
    "id": "kpC734STuy-A",
    "outputId": "947c5b9b-578a-4a4f-8e35-5985b4781fda"
   },
   "outputs": [
    {
     "data": {
      "text/plain": [
       "2949.2"
      ]
     },
     "execution_count": 47,
     "metadata": {},
     "output_type": "execute_result"
    }
   ],
   "source": [
    "#fifth split\n",
    "y1=df.iloc[4:6,:]\n",
    "x04=y1['hrs'].mean()\n",
    "a=df[df['hrs']<=x04]\n",
    "x1=a.mean()['marks']\n",
    "b=df[df['hrs']>x04]\n",
    "x2=b.mean()['marks']\n",
    "error2=0\n",
    "error1=0\n",
    "for j in a['marks']:\n",
    "  m3=(j-x1)**2\n",
    "  error2=error2+m3\n",
    "for i in b['marks']:\n",
    "  m2=(x2-i)**2\n",
    "  error1=error1+m2\n",
    "\n",
    "error=error2+error1\n",
    "e5=error\n",
    "\n",
    "e5"
   ]
  },
  {
   "cell_type": "code",
   "execution_count": 48,
   "metadata": {
    "colab": {
     "base_uri": "https://localhost:8080/",
     "height": 34
    },
    "colab_type": "code",
    "id": "9tkaaYwxvATT",
    "outputId": "f5f753d5-6ab5-48c1-d160-7a7997ee3950"
   },
   "outputs": [
    {
     "data": {
      "text/plain": [
       "2534.25"
      ]
     },
     "execution_count": 48,
     "metadata": {},
     "output_type": "execute_result"
    }
   ],
   "source": [
    "#sixth split\n",
    "y1=df.iloc[5:7,:]\n",
    "x05=y1['hrs'].mean()\n",
    "a=df[df['hrs']<=x05]\n",
    "x1=a.mean()['marks']\n",
    "b=df[df['hrs']>x05]\n",
    "x2=b.mean()['marks']\n",
    "error2=0\n",
    "error1=0\n",
    "for j in a['marks']:\n",
    "  m3=(j-x1)**2\n",
    "  error2=error2+m3\n",
    "for i in b['marks']:\n",
    "  m2=(x2-i)**2\n",
    "  error1=error1+m2\n",
    "\n",
    "error=error2+error1\n",
    "e6=error\n",
    "\n",
    "e6"
   ]
  },
  {
   "cell_type": "code",
   "execution_count": 49,
   "metadata": {
    "colab": {
     "base_uri": "https://localhost:8080/",
     "height": 34
    },
    "colab_type": "code",
    "id": "caM95b9zvHn5",
    "outputId": "44e5493a-2a72-4965-c88d-cedbe3602578"
   },
   "outputs": [
    {
     "data": {
      "text/plain": [
       "2934.857142857143"
      ]
     },
     "execution_count": 49,
     "metadata": {},
     "output_type": "execute_result"
    }
   ],
   "source": [
    "#seventh split\n",
    "y1=df.iloc[6:8,:]\n",
    "x06=y1['hrs'].mean()\n",
    "a=df[df['hrs']<=x06]\n",
    "x1=a.mean()['marks']\n",
    "b=df[df['hrs']>x06]\n",
    "x2=b.mean()['marks']\n",
    "error2=0\n",
    "error1=0\n",
    "for j in a['marks']:\n",
    "  m3=(j-x1)**2\n",
    "  error2=error2+m3\n",
    "for i in b['marks']:\n",
    "  m2=(x2-i)**2\n",
    "  error1=error1+m2\n",
    "\n",
    "error=error2+error1\n",
    "e7=error\n",
    "\n",
    "e7"
   ]
  },
  {
   "cell_type": "code",
   "execution_count": 50,
   "metadata": {
    "colab": {
     "base_uri": "https://localhost:8080/",
     "height": 34
    },
    "colab_type": "code",
    "id": "GvwwXLi2vQ-1",
    "outputId": "61c97ba5-d05c-43fb-b9c8-eaa5dcce8486"
   },
   "outputs": [
    {
     "data": {
      "text/plain": [
       "2803.5"
      ]
     },
     "execution_count": 50,
     "metadata": {},
     "output_type": "execute_result"
    }
   ],
   "source": [
    "#eigthh split\n",
    "y1=df.iloc[7:9,:]\n",
    "x07=y1['hrs'].mean()\n",
    "a=df[df['hrs']<=x07]\n",
    "x1=a.mean()['marks']\n",
    "b=df[df['hrs']>x07]\n",
    "x2=b.mean()['marks']\n",
    "error2=0\n",
    "error1=0\n",
    "for j in a['marks']:\n",
    "  m3=(j-x1)**2\n",
    "  error2=error2+m3\n",
    "for i in b['marks']:\n",
    "  m2=(x2-i)**2\n",
    "  error1=error1+m2\n",
    "\n",
    "error=error2+error1\n",
    "e8=error\n",
    "\n",
    "e8"
   ]
  },
  {
   "cell_type": "code",
   "execution_count": 51,
   "metadata": {
    "colab": {
     "base_uri": "https://localhost:8080/",
     "height": 34
    },
    "colab_type": "code",
    "id": "JjzfJBltvgsj",
    "outputId": "5d1b82cf-014b-4200-d890-7aaf9b5c4627"
   },
   "outputs": [
    {
     "data": {
      "text/plain": [
       "2800.8888888888887"
      ]
     },
     "execution_count": 51,
     "metadata": {},
     "output_type": "execute_result"
    }
   ],
   "source": [
    "#ninth split\n",
    "y1=df.iloc[8:10,:]\n",
    "x08=y1['hrs'].mean()\n",
    "a=df[df['hrs']<=x08]\n",
    "x1=a.mean()['marks']\n",
    "b=df[df['hrs']>x08]\n",
    "x2=b.mean()['marks']\n",
    "error2=0\n",
    "error1=0\n",
    "for j in a['marks']:\n",
    "  m3=(j-x1)**2\n",
    "  error2=error2+m3\n",
    "for i in b['marks']:\n",
    "  m2=(x2-i)**2\n",
    "  error1=error1+m2\n",
    "\n",
    "error=error2+error1\n",
    "e9=error\n",
    "\n",
    "e9"
   ]
  },
  {
   "cell_type": "code",
   "execution_count": 52,
   "metadata": {
    "colab": {},
    "colab_type": "code",
    "id": "DLQKRV5Lwqlc"
   },
   "outputs": [],
   "source": [
    "new=pd.DataFrame()"
   ]
  },
  {
   "cell_type": "code",
   "execution_count": 53,
   "metadata": {
    "colab": {},
    "colab_type": "code",
    "id": "K_DQyERbx05p"
   },
   "outputs": [],
   "source": [
    "new['hrs']=np.array([x0,x01,x02,x03,x04,x05,x06,x07,x08])\n",
    "new['error']=np.array([e1,e2,e3,e4,e5,e6,e7,e8,e9])"
   ]
  },
  {
   "cell_type": "code",
   "execution_count": 54,
   "metadata": {
    "colab": {
     "base_uri": "https://localhost:8080/",
     "height": 314
    },
    "colab_type": "code",
    "id": "2DlsjGO00UHO",
    "outputId": "19a668e7-62c7-47aa-82d9-8085257eca7c"
   },
   "outputs": [
    {
     "data": {
      "text/html": [
       "<div>\n",
       "<style scoped>\n",
       "    .dataframe tbody tr th:only-of-type {\n",
       "        vertical-align: middle;\n",
       "    }\n",
       "\n",
       "    .dataframe tbody tr th {\n",
       "        vertical-align: top;\n",
       "    }\n",
       "\n",
       "    .dataframe thead th {\n",
       "        text-align: right;\n",
       "    }\n",
       "</style>\n",
       "<table border=\"1\" class=\"dataframe\">\n",
       "  <thead>\n",
       "    <tr style=\"text-align: right;\">\n",
       "      <th></th>\n",
       "      <th>hrs</th>\n",
       "      <th>error</th>\n",
       "    </tr>\n",
       "  </thead>\n",
       "  <tbody>\n",
       "    <tr>\n",
       "      <td>0</td>\n",
       "      <td>1.25</td>\n",
       "      <td>2698.888889</td>\n",
       "    </tr>\n",
       "    <tr>\n",
       "      <td>1</td>\n",
       "      <td>1.80</td>\n",
       "      <td>2583.500000</td>\n",
       "    </tr>\n",
       "    <tr>\n",
       "      <td>2</td>\n",
       "      <td>2.30</td>\n",
       "      <td>2824.380952</td>\n",
       "    </tr>\n",
       "    <tr>\n",
       "      <td>3</td>\n",
       "      <td>3.00</td>\n",
       "      <td>2808.333333</td>\n",
       "    </tr>\n",
       "    <tr>\n",
       "      <td>4</td>\n",
       "      <td>3.75</td>\n",
       "      <td>2949.200000</td>\n",
       "    </tr>\n",
       "    <tr>\n",
       "      <td>5</td>\n",
       "      <td>4.50</td>\n",
       "      <td>2534.250000</td>\n",
       "    </tr>\n",
       "    <tr>\n",
       "      <td>6</td>\n",
       "      <td>5.75</td>\n",
       "      <td>2934.857143</td>\n",
       "    </tr>\n",
       "    <tr>\n",
       "      <td>7</td>\n",
       "      <td>7.00</td>\n",
       "      <td>2803.500000</td>\n",
       "    </tr>\n",
       "    <tr>\n",
       "      <td>8</td>\n",
       "      <td>7.75</td>\n",
       "      <td>2800.888889</td>\n",
       "    </tr>\n",
       "  </tbody>\n",
       "</table>\n",
       "</div>"
      ],
      "text/plain": [
       "    hrs        error\n",
       "0  1.25  2698.888889\n",
       "1  1.80  2583.500000\n",
       "2  2.30  2824.380952\n",
       "3  3.00  2808.333333\n",
       "4  3.75  2949.200000\n",
       "5  4.50  2534.250000\n",
       "6  5.75  2934.857143\n",
       "7  7.00  2803.500000\n",
       "8  7.75  2800.888889"
      ]
     },
     "execution_count": 54,
     "metadata": {},
     "output_type": "execute_result"
    }
   ],
   "source": [
    "new"
   ]
  },
  {
   "cell_type": "code",
   "execution_count": 61,
   "metadata": {},
   "outputs": [
    {
     "data": {
      "text/html": [
       "<div>\n",
       "<style scoped>\n",
       "    .dataframe tbody tr th:only-of-type {\n",
       "        vertical-align: middle;\n",
       "    }\n",
       "\n",
       "    .dataframe tbody tr th {\n",
       "        vertical-align: top;\n",
       "    }\n",
       "\n",
       "    .dataframe thead th {\n",
       "        text-align: right;\n",
       "    }\n",
       "</style>\n",
       "<table border=\"1\" class=\"dataframe\">\n",
       "  <thead>\n",
       "    <tr style=\"text-align: right;\">\n",
       "      <th></th>\n",
       "      <th>hrs</th>\n",
       "      <th>marks</th>\n",
       "    </tr>\n",
       "  </thead>\n",
       "  <tbody>\n",
       "    <tr>\n",
       "      <td>0</td>\n",
       "      <td>1.0</td>\n",
       "      <td>37</td>\n",
       "    </tr>\n",
       "    <tr>\n",
       "      <td>2</td>\n",
       "      <td>1.5</td>\n",
       "      <td>43</td>\n",
       "    </tr>\n",
       "    <tr>\n",
       "      <td>3</td>\n",
       "      <td>2.1</td>\n",
       "      <td>60</td>\n",
       "    </tr>\n",
       "    <tr>\n",
       "      <td>1</td>\n",
       "      <td>2.5</td>\n",
       "      <td>50</td>\n",
       "    </tr>\n",
       "    <tr>\n",
       "      <td>7</td>\n",
       "      <td>3.5</td>\n",
       "      <td>75</td>\n",
       "    </tr>\n",
       "    <tr>\n",
       "      <td>5</td>\n",
       "      <td>4.0</td>\n",
       "      <td>80</td>\n",
       "    </tr>\n",
       "    <tr>\n",
       "      <td>4</td>\n",
       "      <td>5.0</td>\n",
       "      <td>27</td>\n",
       "    </tr>\n",
       "    <tr>\n",
       "      <td>6</td>\n",
       "      <td>6.5</td>\n",
       "      <td>30</td>\n",
       "    </tr>\n",
       "    <tr>\n",
       "      <td>9</td>\n",
       "      <td>7.5</td>\n",
       "      <td>56</td>\n",
       "    </tr>\n",
       "    <tr>\n",
       "      <td>8</td>\n",
       "      <td>8.0</td>\n",
       "      <td>64</td>\n",
       "    </tr>\n",
       "  </tbody>\n",
       "</table>\n",
       "</div>"
      ],
      "text/plain": [
       "   hrs  marks\n",
       "0  1.0     37\n",
       "2  1.5     43\n",
       "3  2.1     60\n",
       "1  2.5     50\n",
       "7  3.5     75\n",
       "5  4.0     80\n",
       "4  5.0     27\n",
       "6  6.5     30\n",
       "9  7.5     56\n",
       "8  8.0     64"
      ]
     },
     "execution_count": 61,
     "metadata": {},
     "output_type": "execute_result"
    }
   ],
   "source": [
    "df"
   ]
  },
  {
   "cell_type": "code",
   "execution_count": 55,
   "metadata": {
    "colab": {
     "base_uri": "https://localhost:8080/",
     "height": 282
    },
    "colab_type": "code",
    "id": "1QaJwewvyDNK",
    "outputId": "20a5c0e1-74fa-4d73-e645-863c1bcc8833"
   },
   "outputs": [
    {
     "data": {
      "text/plain": [
       "<matplotlib.collections.PathCollection at 0x27377914348>"
      ]
     },
     "execution_count": 55,
     "metadata": {},
     "output_type": "execute_result"
    },
    {
     "data": {
      "image/png": "[encoded data removed]",
      "text/plain": [
       "<Figure size 432x288 with 1 Axes>"
      ]
     },
     "metadata": {
      "needs_background": "light"
     },
     "output_type": "display_data"
    }
   ],
   "source": [
    "plt.scatter(new['hrs'],new['error'])"
   ]
  },
  {
   "cell_type": "markdown",
   "metadata": {
    "colab_type": "text",
    "id": "vEGVOigi0gqz"
   },
   "source": [
    "**So the lowest sse value is for...**"
   ]
  },
  {
   "cell_type": "code",
   "execution_count": 60,
   "metadata": {},
   "outputs": [
    {
     "data": {
      "text/html": [
       "<div>\n",
       "<style scoped>\n",
       "    .dataframe tbody tr th:only-of-type {\n",
       "        vertical-align: middle;\n",
       "    }\n",
       "\n",
       "    .dataframe tbody tr th {\n",
       "        vertical-align: top;\n",
       "    }\n",
       "\n",
       "    .dataframe thead th {\n",
       "        text-align: right;\n",
       "    }\n",
       "</style>\n",
       "<table border=\"1\" class=\"dataframe\">\n",
       "  <thead>\n",
       "    <tr style=\"text-align: right;\">\n",
       "      <th></th>\n",
       "      <th>hrs</th>\n",
       "      <th>error</th>\n",
       "    </tr>\n",
       "  </thead>\n",
       "  <tbody>\n",
       "    <tr>\n",
       "      <td>5</td>\n",
       "      <td>4.5</td>\n",
       "      <td>2534.25</td>\n",
       "    </tr>\n",
       "  </tbody>\n",
       "</table>\n",
       "</div>"
      ],
      "text/plain": [
       "   hrs    error\n",
       "5  4.5  2534.25"
      ]
     },
     "execution_count": 60,
     "metadata": {},
     "output_type": "execute_result"
    }
   ],
   "source": [
    "new[new['error']==new['error'].min()]"
   ]
  },
  {
   "cell_type": "markdown",
   "metadata": {},
   "source": [
    "# So the first splitting criteria would be hours>4.5"
   ]
  }
 ],
 "metadata": {
  "colab": {
   "name": "Regression-trees.ipynb",
   "provenance": []
  },
  "kernelspec": {
   "display_name": "Python 3",
   "language": "python",
   "name": "python3"
  },
  "language_info": {
   "codemirror_mode": {
    "name": "ipython",
    "version": 3
   },
   "file_extension": ".py",
   "mimetype": "text/x-python",
   "name": "python",
   "nbconvert_exporter": "python",
   "pygments_lexer": "ipython3",
   "version": "3.7.4"
  }
 },
 "nbformat": 4,
 "nbformat_minor": 1
}
