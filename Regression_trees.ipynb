{
  "nbformat": 4,
  "nbformat_minor": 0,
  "metadata": {
    "colab": {
      "name": "Regression-trees.ipynb",
      "provenance": []
    },
    "kernelspec": {
      "name": "python3",
      "display_name": "Python 3"
    }
  },
  "cells": [
    {
      "cell_type": "code",
      "metadata": {
        "id": "L5YLJv7MKZul",
        "colab_type": "code",
        "colab": {}
      },
      "source": [
        "import numpy as np\n",
        "import pandas as pd"
      ],
      "execution_count": 0,
      "outputs": []
    },
    {
      "cell_type": "code",
      "metadata": {
        "id": "Ws4XwFgyKe6t",
        "colab_type": "code",
        "colab": {}
      },
      "source": [
        "df=pd.DataFrame()"
      ],
      "execution_count": 0,
      "outputs": []
    },
    {
      "cell_type": "code",
      "metadata": {
        "id": "AwCy1_qoKrwF",
        "colab_type": "code",
        "colab": {}
      },
      "source": [
        "df['hrs']=np.array([1,2.5,1.5,2.1,5,4,6.5,3.5,8,7.5])\n",
        "df['marks']=np.array([37,50,43,60,27,80,30,75,64,56])"
      ],
      "execution_count": 0,
      "outputs": []
    },
    {
      "cell_type": "code",
      "metadata": {
        "id": "3AsaU0-PLXqb",
        "colab_type": "code",
        "outputId": "13e511c8-f467-4ae4-a198-3adeb2c782ac",
        "colab": {
          "base_uri": "https://localhost:8080/",
          "height": 343
        }
      },
      "source": [
        "df"
      ],
      "execution_count": 94,
      "outputs": [
        {
          "output_type": "execute_result",
          "data": {
            "text/html": [
              "<div>\n",
              "<style scoped>\n",
              "    .dataframe tbody tr th:only-of-type {\n",
              "        vertical-align: middle;\n",
              "    }\n",
              "\n",
              "    .dataframe tbody tr th {\n",
              "        vertical-align: top;\n",
              "    }\n",
              "\n",
              "    .dataframe thead th {\n",
              "        text-align: right;\n",
              "    }\n",
              "</style>\n",
              "<table border=\"1\" class=\"dataframe\">\n",
              "  <thead>\n",
              "    <tr style=\"text-align: right;\">\n",
              "      <th></th>\n",
              "      <th>hrs</th>\n",
              "      <th>marks</th>\n",
              "    </tr>\n",
              "  </thead>\n",
              "  <tbody>\n",
              "    <tr>\n",
              "      <th>0</th>\n",
              "      <td>1.0</td>\n",
              "      <td>37</td>\n",
              "    </tr>\n",
              "    <tr>\n",
              "      <th>1</th>\n",
              "      <td>2.5</td>\n",
              "      <td>50</td>\n",
              "    </tr>\n",
              "    <tr>\n",
              "      <th>2</th>\n",
              "      <td>1.5</td>\n",
              "      <td>43</td>\n",
              "    </tr>\n",
              "    <tr>\n",
              "      <th>3</th>\n",
              "      <td>2.1</td>\n",
              "      <td>60</td>\n",
              "    </tr>\n",
              "    <tr>\n",
              "      <th>4</th>\n",
              "      <td>5.0</td>\n",
              "      <td>27</td>\n",
              "    </tr>\n",
              "    <tr>\n",
              "      <th>5</th>\n",
              "      <td>4.0</td>\n",
              "      <td>80</td>\n",
              "    </tr>\n",
              "    <tr>\n",
              "      <th>6</th>\n",
              "      <td>6.5</td>\n",
              "      <td>30</td>\n",
              "    </tr>\n",
              "    <tr>\n",
              "      <th>7</th>\n",
              "      <td>3.5</td>\n",
              "      <td>75</td>\n",
              "    </tr>\n",
              "    <tr>\n",
              "      <th>8</th>\n",
              "      <td>8.0</td>\n",
              "      <td>64</td>\n",
              "    </tr>\n",
              "    <tr>\n",
              "      <th>9</th>\n",
              "      <td>7.5</td>\n",
              "      <td>56</td>\n",
              "    </tr>\n",
              "  </tbody>\n",
              "</table>\n",
              "</div>"
            ],
            "text/plain": [
              "   hrs  marks\n",
              "0  1.0     37\n",
              "1  2.5     50\n",
              "2  1.5     43\n",
              "3  2.1     60\n",
              "4  5.0     27\n",
              "5  4.0     80\n",
              "6  6.5     30\n",
              "7  3.5     75\n",
              "8  8.0     64\n",
              "9  7.5     56"
            ]
          },
          "metadata": {
            "tags": []
          },
          "execution_count": 94
        }
      ]
    },
    {
      "cell_type": "code",
      "metadata": {
        "id": "3ee6DyDnLY3H",
        "colab_type": "code",
        "colab": {}
      },
      "source": [
        "import matplotlib.pyplot as plt"
      ],
      "execution_count": 0,
      "outputs": []
    },
    {
      "cell_type": "code",
      "metadata": {
        "id": "XASn6oEvLfTj",
        "colab_type": "code",
        "outputId": "f42d028e-dc45-4f87-9f1b-112fa231610c",
        "colab": {
          "base_uri": "https://localhost:8080/",
          "height": 282
        }
      },
      "source": [
        "plt.scatter(df['hrs'],df['marks'])"
      ],
      "execution_count": 96,
      "outputs": [
        {
          "output_type": "execute_result",
          "data": {
            "text/plain": [
              "<matplotlib.collections.PathCollection at 0x7facc758b550>"
            ]
          },
          "metadata": {
            "tags": []
          },
          "execution_count": 96
        },
        {
          "output_type": "display_data",
          "data": {
            "image/png": "[encoded data removed]",
            "text/plain": [
              "<Figure size 432x288 with 1 Axes>"
            ]
          },
          "metadata": {
            "tags": [],
            "needs_background": "light"
          }
        }
      ]
    },
    {
      "cell_type": "code",
      "metadata": {
        "id": "bD29xDFeLj5S",
        "colab_type": "code",
        "colab": {
          "base_uri": "https://localhost:8080/",
          "height": 343
        },
        "outputId": "f1753503-aef6-454b-8ec8-683d5f552f0d"
      },
      "source": [
        "# You have to find the first splitting criteria.\n",
        "df=df.sort_values(\"hrs\")\n",
        "df"
      ],
      "execution_count": 97,
      "outputs": [
        {
          "output_type": "execute_result",
          "data": {
            "text/html": [
              "<div>\n",
              "<style scoped>\n",
              "    .dataframe tbody tr th:only-of-type {\n",
              "        vertical-align: middle;\n",
              "    }\n",
              "\n",
              "    .dataframe tbody tr th {\n",
              "        vertical-align: top;\n",
              "    }\n",
              "\n",
              "    .dataframe thead th {\n",
              "        text-align: right;\n",
              "    }\n",
              "</style>\n",
              "<table border=\"1\" class=\"dataframe\">\n",
              "  <thead>\n",
              "    <tr style=\"text-align: right;\">\n",
              "      <th></th>\n",
              "      <th>hrs</th>\n",
              "      <th>marks</th>\n",
              "    </tr>\n",
              "  </thead>\n",
              "  <tbody>\n",
              "    <tr>\n",
              "      <th>0</th>\n",
              "      <td>1.0</td>\n",
              "      <td>37</td>\n",
              "    </tr>\n",
              "    <tr>\n",
              "      <th>2</th>\n",
              "      <td>1.5</td>\n",
              "      <td>43</td>\n",
              "    </tr>\n",
              "    <tr>\n",
              "      <th>3</th>\n",
              "      <td>2.1</td>\n",
              "      <td>60</td>\n",
              "    </tr>\n",
              "    <tr>\n",
              "      <th>1</th>\n",
              "      <td>2.5</td>\n",
              "      <td>50</td>\n",
              "    </tr>\n",
              "    <tr>\n",
              "      <th>7</th>\n",
              "      <td>3.5</td>\n",
              "      <td>75</td>\n",
              "    </tr>\n",
              "    <tr>\n",
              "      <th>5</th>\n",
              "      <td>4.0</td>\n",
              "      <td>80</td>\n",
              "    </tr>\n",
              "    <tr>\n",
              "      <th>4</th>\n",
              "      <td>5.0</td>\n",
              "      <td>27</td>\n",
              "    </tr>\n",
              "    <tr>\n",
              "      <th>6</th>\n",
              "      <td>6.5</td>\n",
              "      <td>30</td>\n",
              "    </tr>\n",
              "    <tr>\n",
              "      <th>9</th>\n",
              "      <td>7.5</td>\n",
              "      <td>56</td>\n",
              "    </tr>\n",
              "    <tr>\n",
              "      <th>8</th>\n",
              "      <td>8.0</td>\n",
              "      <td>64</td>\n",
              "    </tr>\n",
              "  </tbody>\n",
              "</table>\n",
              "</div>"
            ],
            "text/plain": [
              "   hrs  marks\n",
              "0  1.0     37\n",
              "2  1.5     43\n",
              "3  2.1     60\n",
              "1  2.5     50\n",
              "7  3.5     75\n",
              "5  4.0     80\n",
              "4  5.0     27\n",
              "6  6.5     30\n",
              "9  7.5     56\n",
              "8  8.0     64"
            ]
          },
          "metadata": {
            "tags": []
          },
          "execution_count": 97
        }
      ]
    },
    {
      "cell_type": "code",
      "metadata": {
        "id": "Q7V5ERFcfNxV",
        "colab_type": "code",
        "colab": {
          "base_uri": "https://localhost:8080/",
          "height": 34
        },
        "outputId": "f4a0292b-625f-438d-a484-6160bc67703b"
      },
      "source": [
        "#first split\n",
        "a=df.iloc[0:1,:]\n",
        "b=df.iloc[1:,:]\n",
        "x0=a['hrs'].mean()\n",
        "x1=df[df['hrs']<=x0].mean()['marks']\n",
        "x2=df[df['hrs']>x0].mean()['marks']\n",
        "error2=0\n",
        "error1=0\n",
        "for j in a['marks']:\n",
        "  m3=(j-x1)**2\n",
        "  error2=error2+m3\n",
        "for i in b['marks']:\n",
        "  m2=(x2-i)**2\n",
        "  error1=error1+m2\n",
        "\n",
        "error=error2+error1\n",
        "e1=error\n",
        "e1"
      ],
      "execution_count": 98,
      "outputs": [
        {
          "output_type": "execute_result",
          "data": {
            "text/plain": [
              "2698.888888888889"
            ]
          },
          "metadata": {
            "tags": []
          },
          "execution_count": 98
        }
      ]
    },
    {
      "cell_type": "code",
      "metadata": {
        "id": "MclnqqB3fXbX",
        "colab_type": "code",
        "colab": {
          "base_uri": "https://localhost:8080/",
          "height": 34
        },
        "outputId": "74b6e950-4ac5-4938-b474-e4834907c489"
      },
      "source": [
        "#second split\n",
        "a=df.iloc[0:2,:]\n",
        "b=df.iloc[2:,:]\n",
        "x01=a['hrs'].mean()\n",
        "x1=df[df['hrs']<=x01].mean()['marks']\n",
        "x2=df[df['hrs']>x01].mean()['marks']\n",
        "error2=0\n",
        "error1=0\n",
        "for j in a['marks']:\n",
        "  m3=(j-x1)**2\n",
        "  error2=error2+m3\n",
        "for i in b['marks']:\n",
        "  m2=(x2-i)**2\n",
        "  error1=error1+m2\n",
        "\n",
        "error=error2+error1\n",
        "e2=error\n",
        "e2"
      ],
      "execution_count": 99,
      "outputs": [
        {
          "output_type": "execute_result",
          "data": {
            "text/plain": [
              "2616.320987654321"
            ]
          },
          "metadata": {
            "tags": []
          },
          "execution_count": 99
        }
      ]
    },
    {
      "cell_type": "code",
      "metadata": {
        "id": "6_IpWMellh1f",
        "colab_type": "code",
        "colab": {
          "base_uri": "https://localhost:8080/",
          "height": 34
        },
        "outputId": "551c3a07-fc0b-4fd6-82ef-5335a7e8f42e"
      },
      "source": [
        "#third split\n",
        "a=df.iloc[0:3,:]\n",
        "b=df.iloc[3:,:]\n",
        "x02=a['hrs'].mean()\n",
        "x1=df[df['hrs']<=x02].mean()['marks']\n",
        "x2=df[df['hrs']>x02].mean()['marks']\n",
        "error2=0\n",
        "error1=0\n",
        "for j in a['marks']:\n",
        "  m3=(j-x1)**2\n",
        "  error2=error2+m3\n",
        "for i in b['marks']:\n",
        "  m2=(x2-i)**2\n",
        "  error1=error1+m2\n",
        "\n",
        "error=error2+error1\n",
        "e3=error\n",
        "e3"
      ],
      "execution_count": 100,
      "outputs": [
        {
          "output_type": "execute_result",
          "data": {
            "text/plain": [
              "2960.9375"
            ]
          },
          "metadata": {
            "tags": []
          },
          "execution_count": 100
        }
      ]
    },
    {
      "cell_type": "code",
      "metadata": {
        "id": "DzZgt6Owli9y",
        "colab_type": "code",
        "colab": {
          "base_uri": "https://localhost:8080/",
          "height": 34
        },
        "outputId": "5ce4bf41-f153-4350-d2a8-63e183c9c27b"
      },
      "source": [
        "#fourth split\n",
        "a=df.iloc[0:4,:]\n",
        "b=df.iloc[4:,:]\n",
        "x03=a['hrs'].mean()\n",
        "x1=df[df['hrs']<=x03].mean()['marks']\n",
        "x2=df[df['hrs']>x03].mean()['marks']\n",
        "error2=0\n",
        "error1=0\n",
        "for j in a['marks']:\n",
        "  m3=(j-x1)**2\n",
        "  error2=error2+m3\n",
        "for i in b['marks']:\n",
        "  m2=(x2-i)**2\n",
        "  error1=error1+m2\n",
        "\n",
        "error=error2+error1\n",
        "e4=error\n",
        "e4"
      ],
      "execution_count": 101,
      "outputs": [
        {
          "output_type": "execute_result",
          "data": {
            "text/plain": [
              "3033.375"
            ]
          },
          "metadata": {
            "tags": []
          },
          "execution_count": 101
        }
      ]
    },
    {
      "cell_type": "code",
      "metadata": {
        "id": "kpC734STuy-A",
        "colab_type": "code",
        "colab": {
          "base_uri": "https://localhost:8080/",
          "height": 34
        },
        "outputId": "947c5b9b-578a-4a4f-8e35-5985b4781fda"
      },
      "source": [
        "#fifth split\n",
        "a=df.iloc[0:5,:]\n",
        "b=df.iloc[5:,:]\n",
        "x04=a['hrs'].mean()\n",
        "x1=df[df['hrs']<=x04].mean()['marks']\n",
        "x2=df[df['hrs']>x04].mean()['marks']\n",
        "error2=0\n",
        "error1=0\n",
        "for j in a['marks']:\n",
        "  m3=(j-x1)**2\n",
        "  error2=error2+m3\n",
        "for i in b['marks']:\n",
        "  m2=(x2-i)**2\n",
        "  error1=error1+m2\n",
        "\n",
        "error=error2+error1\n",
        "e5=error\n",
        "e5"
      ],
      "execution_count": 102,
      "outputs": [
        {
          "output_type": "execute_result",
          "data": {
            "text/plain": [
              "3200.0453514739233"
            ]
          },
          "metadata": {
            "tags": []
          },
          "execution_count": 102
        }
      ]
    },
    {
      "cell_type": "code",
      "metadata": {
        "id": "9tkaaYwxvATT",
        "colab_type": "code",
        "colab": {
          "base_uri": "https://localhost:8080/",
          "height": 34
        },
        "outputId": "f5f753d5-6ab5-48c1-d160-7a7997ee3950"
      },
      "source": [
        "#sixth split\n",
        "a=df.iloc[0:6,:]\n",
        "b=df.iloc[6:,:]\n",
        "x05=a['hrs'].mean()\n",
        "x1=df[df['hrs']<=x05].mean()['marks']\n",
        "x2=df[df['hrs']>x05].mean()['marks']\n",
        "error2=0\n",
        "error1=0\n",
        "for j in a['marks']:\n",
        "  m3=(j-x1)**2\n",
        "  error2=error2+m3\n",
        "for i in b['marks']:\n",
        "  m2=(x2-i)**2\n",
        "  error1=error1+m2\n",
        "\n",
        "error=error2+error1\n",
        "e6=error\n",
        "e6"
      ],
      "execution_count": 103,
      "outputs": [
        {
          "output_type": "execute_result",
          "data": {
            "text/plain": [
              "3664.5442176870747"
            ]
          },
          "metadata": {
            "tags": []
          },
          "execution_count": 103
        }
      ]
    },
    {
      "cell_type": "code",
      "metadata": {
        "id": "caM95b9zvHn5",
        "colab_type": "code",
        "colab": {
          "base_uri": "https://localhost:8080/",
          "height": 34
        },
        "outputId": "44e5493a-2a72-4965-c88d-cedbe3602578"
      },
      "source": [
        "#seventh split\n",
        "a=df.iloc[0:7,:]\n",
        "b=df.iloc[7:,:]\n",
        "x06=a['hrs'].mean()\n",
        "x1=df[df['hrs']<=x06].mean()['marks']\n",
        "x2=df[df['hrs']>x06].mean()['marks']\n",
        "error2=0\n",
        "error1=0\n",
        "for j in a['marks']:\n",
        "  m3=(j-x1)**2\n",
        "  error2=error2+m3\n",
        "for i in b['marks']:\n",
        "  m2=(x2-i)**2\n",
        "  error1=error1+m2\n",
        "\n",
        "error=error2+error1\n",
        "e7=error\n",
        "e7"
      ],
      "execution_count": 104,
      "outputs": [
        {
          "output_type": "execute_result",
          "data": {
            "text/plain": [
              "3243.0833333333335"
            ]
          },
          "metadata": {
            "tags": []
          },
          "execution_count": 104
        }
      ]
    },
    {
      "cell_type": "code",
      "metadata": {
        "id": "GvwwXLi2vQ-1",
        "colab_type": "code",
        "colab": {
          "base_uri": "https://localhost:8080/",
          "height": 34
        },
        "outputId": "61c97ba5-d05c-43fb-b9c8-eaa5dcce8486"
      },
      "source": [
        "#eigthh split\n",
        "a=df.iloc[0:8,:]\n",
        "b=df.iloc[8:,:]\n",
        "x07=a['hrs'].mean()\n",
        "x1=df[df['hrs']<=x07].mean()['marks']\n",
        "x2=df[df['hrs']>x07].mean()['marks']\n",
        "error2=0\n",
        "error1=0\n",
        "for j in a['marks']:\n",
        "  m3=(j-x1)**2\n",
        "  error2=error2+m3\n",
        "for i in b['marks']:\n",
        "  m2=(x2-i)**2\n",
        "  error1=error1+m2\n",
        "\n",
        "error=error2+error1\n",
        "e8=error\n",
        "e8"
      ],
      "execution_count": 105,
      "outputs": [
        {
          "output_type": "execute_result",
          "data": {
            "text/plain": [
              "2907.5555555555557"
            ]
          },
          "metadata": {
            "tags": []
          },
          "execution_count": 105
        }
      ]
    },
    {
      "cell_type": "code",
      "metadata": {
        "id": "JjzfJBltvgsj",
        "colab_type": "code",
        "colab": {
          "base_uri": "https://localhost:8080/",
          "height": 34
        },
        "outputId": "5d1b82cf-014b-4200-d890-7aaf9b5c4627"
      },
      "source": [
        "#ninth split\n",
        "a=df.iloc[0:9,:]\n",
        "b=df.iloc[9:,:]\n",
        "x08=a['hrs'].mean()\n",
        "x1=df[df['hrs']<=x08].mean()['marks']\n",
        "x2=df[df['hrs']>x08].mean()['marks']\n",
        "error2=0\n",
        "error1=0\n",
        "for j in a['marks']:\n",
        "  m3=(j-x1)**2\n",
        "  error2=error2+m3\n",
        "for i in b['marks']:\n",
        "  m2=(x2-i)**2\n",
        "  error1=error1+m2\n",
        "\n",
        "error=error2+error1\n",
        "e9=error\n",
        "e9"
      ],
      "execution_count": 106,
      "outputs": [
        {
          "output_type": "execute_result",
          "data": {
            "text/plain": [
              "2999.76"
            ]
          },
          "metadata": {
            "tags": []
          },
          "execution_count": 106
        }
      ]
    },
    {
      "cell_type": "code",
      "metadata": {
        "id": "DLQKRV5Lwqlc",
        "colab_type": "code",
        "colab": {}
      },
      "source": [
        "new=pd.DataFrame()"
      ],
      "execution_count": 0,
      "outputs": []
    },
    {
      "cell_type": "code",
      "metadata": {
        "id": "K_DQyERbx05p",
        "colab_type": "code",
        "colab": {}
      },
      "source": [
        "new['hrs']=np.array([x0,x01,x02,x03,x04,x05,x06,x07,x08])\n",
        "new['error']=np.array([e1,e2,e3,e4,e5,e6,e7,e8,e9])"
      ],
      "execution_count": 0,
      "outputs": []
    },
    {
      "cell_type": "code",
      "metadata": {
        "id": "2DlsjGO00UHO",
        "colab_type": "code",
        "colab": {
          "base_uri": "https://localhost:8080/",
          "height": 314
        },
        "outputId": "19a668e7-62c7-47aa-82d9-8085257eca7c"
      },
      "source": [
        "new"
      ],
      "execution_count": 111,
      "outputs": [
        {
          "output_type": "execute_result",
          "data": {
            "text/html": [
              "<div>\n",
              "<style scoped>\n",
              "    .dataframe tbody tr th:only-of-type {\n",
              "        vertical-align: middle;\n",
              "    }\n",
              "\n",
              "    .dataframe tbody tr th {\n",
              "        vertical-align: top;\n",
              "    }\n",
              "\n",
              "    .dataframe thead th {\n",
              "        text-align: right;\n",
              "    }\n",
              "</style>\n",
              "<table border=\"1\" class=\"dataframe\">\n",
              "  <thead>\n",
              "    <tr style=\"text-align: right;\">\n",
              "      <th></th>\n",
              "      <th>hrs</th>\n",
              "      <th>error</th>\n",
              "    </tr>\n",
              "  </thead>\n",
              "  <tbody>\n",
              "    <tr>\n",
              "      <th>0</th>\n",
              "      <td>1.000000</td>\n",
              "      <td>2698.888889</td>\n",
              "    </tr>\n",
              "    <tr>\n",
              "      <th>1</th>\n",
              "      <td>1.250000</td>\n",
              "      <td>2616.320988</td>\n",
              "    </tr>\n",
              "    <tr>\n",
              "      <th>2</th>\n",
              "      <td>1.533333</td>\n",
              "      <td>2960.937500</td>\n",
              "    </tr>\n",
              "    <tr>\n",
              "      <th>3</th>\n",
              "      <td>1.775000</td>\n",
              "      <td>3033.375000</td>\n",
              "    </tr>\n",
              "    <tr>\n",
              "      <th>4</th>\n",
              "      <td>2.120000</td>\n",
              "      <td>3200.045351</td>\n",
              "    </tr>\n",
              "    <tr>\n",
              "      <th>5</th>\n",
              "      <td>2.433333</td>\n",
              "      <td>3664.544218</td>\n",
              "    </tr>\n",
              "    <tr>\n",
              "      <th>6</th>\n",
              "      <td>2.800000</td>\n",
              "      <td>3243.083333</td>\n",
              "    </tr>\n",
              "    <tr>\n",
              "      <th>7</th>\n",
              "      <td>3.262500</td>\n",
              "      <td>2907.555556</td>\n",
              "    </tr>\n",
              "    <tr>\n",
              "      <th>8</th>\n",
              "      <td>3.733333</td>\n",
              "      <td>2999.760000</td>\n",
              "    </tr>\n",
              "  </tbody>\n",
              "</table>\n",
              "</div>"
            ],
            "text/plain": [
              "        hrs        error\n",
              "0  1.000000  2698.888889\n",
              "1  1.250000  2616.320988\n",
              "2  1.533333  2960.937500\n",
              "3  1.775000  3033.375000\n",
              "4  2.120000  3200.045351\n",
              "5  2.433333  3664.544218\n",
              "6  2.800000  3243.083333\n",
              "7  3.262500  2907.555556\n",
              "8  3.733333  2999.760000"
            ]
          },
          "metadata": {
            "tags": []
          },
          "execution_count": 111
        }
      ]
    },
    {
      "cell_type": "code",
      "metadata": {
        "id": "1QaJwewvyDNK",
        "colab_type": "code",
        "colab": {
          "base_uri": "https://localhost:8080/",
          "height": 282
        },
        "outputId": "20a5c0e1-74fa-4d73-e645-863c1bcc8833"
      },
      "source": [
        "plt.scatter(new['hrs'],new['error'])"
      ],
      "execution_count": 110,
      "outputs": [
        {
          "output_type": "execute_result",
          "data": {
            "text/plain": [
              "<matplotlib.collections.PathCollection at 0x7facc75be390>"
            ]
          },
          "metadata": {
            "tags": []
          },
          "execution_count": 110
        },
        {
          "output_type": "display_data",
          "data": {
            "image/png": "[encoded data removed]",
            "text/plain": [
              "<Figure size 432x288 with 1 Axes>"
            ]
          },
          "metadata": {
            "tags": [],
            "needs_background": "light"
          }
        }
      ]
    },
    {
      "cell_type": "markdown",
      "metadata": {
        "id": "vEGVOigi0gqz",
        "colab_type": "text"
      },
      "source": [
        "**So the lowest sse value is for hrs=1.25;So,the splitting criteria will be hrs>1.25**"
      ]
    }
  ]
}